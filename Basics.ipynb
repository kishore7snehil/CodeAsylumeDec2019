{
 "cells": [
  {
   "cell_type": "code",
   "execution_count": 6,
   "metadata": {},
   "outputs": [
    {
     "name": "stdout",
     "output_type": "stream",
     "text": [
      "Enter first number:8\n",
      "Enter second number:40\n",
      "Enter third number:35\n",
      "Enter fourth number69\n",
      "152\n",
      "38.0\n",
      "772800\n"
     ]
    }
   ],
   "source": [
    "a1=input(\"Enter first number:\")\n",
    "b1=input(\"Enter second number:\")\n",
    "c1=input(\"Enter third number:\")\n",
    "d1=input(\"Enter fourth number\")\n",
    "\n",
    "a=int(a1)\n",
    "b=int(b1)\n",
    "c=int(c1)\n",
    "d=int(d1)\n",
    "sum=a+b+c+d\n",
    "avg=sum/4\n",
    "mul=a*b*c*d\n",
    "\n",
    "print(sum)\n",
    "print(avg)\n",
    "print(mul)"
   ]
  },
  {
   "cell_type": "code",
   "execution_count": 7,
   "metadata": {},
   "outputs": [
    {
     "name": "stdout",
     "output_type": "stream",
     "text": [
      "152\n"
     ]
    }
   ],
   "source": [
    "def sum(a,b,c,d):\n",
    "    sum=a+b+c+d\n",
    "    return sum\n",
    "print(sum(a,b,c,d))"
   ]
  },
  {
   "cell_type": "code",
   "execution_count": 8,
   "metadata": {},
   "outputs": [
    {
     "name": "stdout",
     "output_type": "stream",
     "text": [
      "38.0\n"
     ]
    }
   ],
   "source": [
    "def avg(a,b,c,d):\n",
    "    x=sum(a,b,c,d)\n",
    "    avg=x/4\n",
    "    return avg\n",
    "print(avg(a,b,c,d))"
   ]
  },
  {
   "cell_type": "code",
   "execution_count": 10,
   "metadata": {},
   "outputs": [
    {
     "name": "stdout",
     "output_type": "stream",
     "text": [
      "772800\n"
     ]
    }
   ],
   "source": [
    "def mul(a,b,c,d):\n",
    "    mul=a*b*c*d\n",
    "    return mul\n",
    "print(mul(a,b,c,d))"
   ]
  },
  {
   "cell_type": "code",
   "execution_count": 11,
   "metadata": {},
   "outputs": [
    {
     "name": "stdout",
     "output_type": "stream",
     "text": [
      "Enter first number:1\n",
      "Enter second number:1000\n",
      "2\n",
      "3\n",
      "5\n",
      "7\n",
      "11\n",
      "13\n",
      "17\n",
      "19\n",
      "23\n",
      "29\n",
      "31\n",
      "37\n",
      "41\n",
      "43\n",
      "47\n",
      "53\n",
      "59\n",
      "61\n",
      "67\n",
      "71\n",
      "73\n",
      "79\n",
      "83\n",
      "89\n",
      "97\n",
      "101\n",
      "103\n",
      "107\n",
      "109\n",
      "113\n",
      "127\n",
      "131\n",
      "137\n",
      "139\n",
      "149\n",
      "151\n",
      "157\n",
      "163\n",
      "167\n",
      "173\n",
      "179\n",
      "181\n",
      "191\n",
      "193\n",
      "197\n",
      "199\n",
      "211\n",
      "223\n",
      "227\n",
      "229\n",
      "233\n",
      "239\n",
      "241\n",
      "251\n",
      "257\n",
      "263\n",
      "269\n",
      "271\n",
      "277\n",
      "281\n",
      "283\n",
      "293\n",
      "307\n",
      "311\n",
      "313\n",
      "317\n",
      "331\n",
      "337\n",
      "347\n",
      "349\n",
      "353\n",
      "359\n",
      "367\n",
      "373\n",
      "379\n",
      "383\n",
      "389\n",
      "397\n",
      "401\n",
      "409\n",
      "419\n",
      "421\n",
      "431\n",
      "433\n",
      "439\n",
      "443\n",
      "449\n",
      "457\n",
      "461\n",
      "463\n",
      "467\n",
      "479\n",
      "487\n",
      "491\n",
      "499\n",
      "503\n",
      "509\n",
      "521\n",
      "523\n",
      "541\n",
      "547\n",
      "557\n",
      "563\n",
      "569\n",
      "571\n",
      "577\n",
      "587\n",
      "593\n",
      "599\n",
      "601\n",
      "607\n",
      "613\n",
      "617\n",
      "619\n",
      "631\n",
      "641\n",
      "643\n",
      "647\n",
      "653\n",
      "659\n",
      "661\n",
      "673\n",
      "677\n",
      "683\n",
      "691\n",
      "701\n",
      "709\n",
      "719\n",
      "727\n",
      "733\n",
      "739\n",
      "743\n",
      "751\n",
      "757\n",
      "761\n",
      "769\n",
      "773\n",
      "787\n",
      "797\n",
      "809\n",
      "811\n",
      "821\n",
      "823\n",
      "827\n",
      "829\n",
      "839\n",
      "853\n",
      "857\n",
      "859\n",
      "863\n",
      "877\n",
      "881\n",
      "883\n",
      "887\n",
      "907\n",
      "911\n",
      "919\n",
      "929\n",
      "937\n",
      "941\n",
      "947\n",
      "953\n",
      "967\n",
      "971\n",
      "977\n",
      "983\n",
      "991\n",
      "997\n"
     ]
    }
   ],
   "source": [
    "ul=int(input(\"Enter first number:\"))\n",
    "ll=int(input(\"Enter second number:\"))\n",
    "\n",
    "\n",
    "for num in range(ul,ll+1):\n",
    "    if num>1:\n",
    "        for i in range(2,num):\n",
    "            if (num%i)==0:\n",
    "                break \n",
    "        else:\n",
    "            print(num)\n",
    "                \n",
    "                \n",
    "        \n",
    "    "
   ]
  },
  {
   "cell_type": "code",
   "execution_count": 22,
   "metadata": {},
   "outputs": [
    {
     "name": "stdout",
     "output_type": "stream",
     "text": [
      "[1, 2, 3]\n"
     ]
    }
   ],
   "source": [
    "import re\n",
    "string=\"hello 1 2 3\"\n",
    "res = [int(i) for i in string.split() if i.isdigit()] \n",
    "print(str(res))"
   ]
  },
  {
   "cell_type": "code",
   "execution_count": 53,
   "metadata": {},
   "outputs": [
    {
     "name": "stdout",
     "output_type": "stream",
     "text": [
      "Enter seat number 110\n",
      "Enter seat number 211\n",
      "Aisle seat\n",
      "Next seat is in16\n",
      "Aisle seat\n",
      "Next seat is not there\n"
     ]
    }
   ],
   "source": [
    "s1=int(input(\"Enter seat number 1\"))\n",
    "s2=int(input(\"Enter seat number 2\"))\n",
    "\n",
    "\n",
    "if s1 in range (1,6):\n",
    "    print (\"Window seat\")\n",
    "elif s1 in range (94,100):\n",
    "    print (\"Window seat\")\n",
    "else:\n",
    "    print(\"Aisle seat\")\n",
    "\n",
    "print(\"Next seat is in\"+str((s1+6)))\n",
    "\n",
    "if s2 in range (1,6):\n",
    "    print (\"Window seat\")\n",
    "elif s2 in range (94,100):\n",
    "    print (\"Window seat\")\n",
    "else:\n",
    "    print(\"Aisle seat\")\n",
    "\n",
    "    "
   ]
  },
  {
   "cell_type": "code",
   "execution_count": 7,
   "metadata": {},
   "outputs": [
    {
     "name": "stdout",
     "output_type": "stream",
     "text": [
      "Enter A Number121\n",
      "Pallindrome\n"
     ]
    }
   ],
   "source": [
    "#Reverse\n",
    "n=int(input(\"Enter A Number\"))\n",
    "z=n\n",
    "rev=0\n",
    "while(n>0):\n",
    "    rem=n%10\n",
    "    rev=(rev*10)+rem\n",
    "    n=n//10\n",
    "if(z==rev):\n",
    "    print(\"Pallindrome\")\n",
    "else:\n",
    "    print(\"Not a Pallindrome\")"
   ]
  },
  {
   "cell_type": "code",
   "execution_count": 14,
   "metadata": {},
   "outputs": [
    {
     "name": "stdout",
     "output_type": "stream",
     "text": [
      "9\n"
     ]
    }
   ],
   "source": [
    "list=[1,2,3,4,5,6,7,8,9,10]\n",
    "largest = list[0]\n",
    "largest2=None\n",
    "for i in  list[1:]:\n",
    "    if i > largest:  \n",
    "        largest2 = largest \n",
    "        largest = i  \n",
    "    elif largest2 == None or largest2 < i: \n",
    "        largest2 = i \n",
    "print(largest2)"
   ]
  },
  {
   "cell_type": "code",
   "execution_count": 19,
   "metadata": {},
   "outputs": [
    {
     "name": "stdout",
     "output_type": "stream",
     "text": [
      "2\n",
      "['Python', 'Sucks']\n",
      "[1, 2, 3, 4, 5, 6, [1, 2, 3]]\n",
      "[1, 2, 3, 4, 5, 6, [1, 2, 3], 1, 2, 3]\n",
      "6\n"
     ]
    }
   ],
   "source": [
    "#List Functions - DAY 3\n",
    "a=[1,2,3,4,5,6]\n",
    "str='Python Sucks'\n",
    "l=['q','u','e','u','e']\n",
    "\n",
    "print(l.count('u'))\n",
    "\n",
    "c=str.split(' ')\n",
    "print(c)\n",
    "\n",
    "a.append([1,2,3])\n",
    "print (a)\n",
    "\n",
    "a.extend([1,2,3])\n",
    "print (a)\n",
    "\n",
    "print(a[-5])"
   ]
  },
  {
   "cell_type": "code",
   "execution_count": 50,
   "metadata": {},
   "outputs": [
    {
     "name": "stdout",
     "output_type": "stream",
     "text": [
      "[2, 2, 3]\n",
      "(1, 2, 3, 4, 5, 6)\n",
      "((1, 2, 3), [2, 2, 3])\n",
      "[1, 1, 1, 1]\n",
      "{1, 2, 3, 4, 5}\n",
      "{4, 5}\n",
      "{1, 2, 3, 4}\n"
     ]
    }
   ],
   "source": [
    "#TUPLE\n",
    "x=(1,2,3)\n",
    "#x[0]=2\n",
    "#print(x)\n",
    "\n",
    "y=[1,2,3]\n",
    "y[0]=2\n",
    "print(y)\n",
    "\n",
    "z=(4,5,6)\n",
    "print(x+z)\n",
    "\n",
    "u=((x),(y))\n",
    "print (u)\n",
    "\n",
    "j=[1 for i in range (4)]\n",
    "print (j)\n",
    "\n",
    "k=(1 for i in range(4))\n",
    "#print(k)\n",
    "\n",
    "#Sets\n",
    "x={1,1,1,2,3,4,5}\n",
    "y={1,1,1,2,3}\n",
    "#print (x{0})# No concept of Indexing\n",
    "\n",
    "print(x.union(y))\n",
    "print(x.difference(y))\n",
    "\n",
    "s=set([1,2,3])\n",
    "t=frozenset([4,5,6])\n",
    "\n",
    "s.add(4)\n",
    "print (s)\n",
    "\n",
    "#t.add(3)#can't add anything"
   ]
  },
  {
   "cell_type": "code",
   "execution_count": 69,
   "metadata": {},
   "outputs": [
    {
     "name": "stdout",
     "output_type": "stream",
     "text": [
      "{'Name': 'Snehil', 'College': 'BIT MEsra'}\n",
      "{'Name': 'Snehil', 'College': 'Ranchi'}\n",
      "[4, 9, 16, 25, 36]\n"
     ]
    }
   ],
   "source": [
    "#Dictionary\n",
    "me={'Name':'Snehil','Branch':'MnC','College':'BIT MEsra'}\n",
    "me.items()\n",
    "me.keys()\n",
    "\n",
    "#for i,j in me.items():\n",
    "    #print (me[i][j])\n",
    "me.pop('Branch')\n",
    "print (me)\n",
    "\n",
    "adme={'College':'Ranchi'}\n",
    "me.update(adme)\n",
    "print (me)\n",
    "\n",
    "#1+(21*x)=3\n",
    "#exp={\"op\":\"equals\",\"rhs\":\"3\",\"lhs\"={\"op\":\"add\",\"rhs\":{\"op\":\"multiply\",\"rhs\":\"21\",\"lhs\":\"x\"},\"lhs\":\"1\"}}\n",
    "\n",
    "#Lambda\n",
    "quad=lambda x:x*x+2*x+1\n",
    "quad(2)\n",
    "\n",
    "n=[1,2,3,4,5]\n",
    "nquad=list(map(quad,n))\n",
    "print (nquad)\n",
    "\n",
    "#Check Filter Reduce on your own\n"
   ]
  },
  {
   "cell_type": "code",
   "execution_count": 70,
   "metadata": {
    "collapsed": true
   },
   "outputs": [],
   "source": [
    "#Questions\n",
    "ADD REV\n",
    "FCTRL2\n",
    "JULKA\n",
    "CANDY3\n",
    "FCTRL"
   ]
  },
  {
   "cell_type": "code",
   "execution_count": 1,
   "metadata": {},
   "outputs": [
    {
     "ename": "IndentationError",
     "evalue": "expected an indented block (<ipython-input-1-270fdaabfbc1>, line 5)",
     "output_type": "error",
     "traceback": [
      "\u001b[1;36m  File \u001b[1;32m\"<ipython-input-1-270fdaabfbc1>\"\u001b[1;36m, line \u001b[1;32m5\u001b[0m\n\u001b[1;33m    for i in range (n):\u001b[0m\n\u001b[1;37m      ^\u001b[0m\n\u001b[1;31mIndentationError\u001b[0m\u001b[1;31m:\u001b[0m expected an indented block\n"
     ]
    }
   ],
   "source": [
    "n=int(input())\n",
    "def reversesum(x,y):\n",
    "    \n",
    "    \n",
    "for i in range (n):\n",
    "    a=input()\n",
    "    c=a.split(' ')\n",
    "    x=int(c[0])\n",
    "    y=int(c[1])\n",
    "    j=reversesum(x,y)\n",
    "    print (j)"
   ]
  },
  {
   "cell_type": "code",
   "execution_count": 5,
   "metadata": {},
   "outputs": [
    {
     "ename": "IndexError",
     "evalue": "list index out of range",
     "output_type": "error",
     "traceback": [
      "\u001b[1;31m---------------------------------------------------------------------------\u001b[0m",
      "\u001b[1;31mIndexError\u001b[0m                                Traceback (most recent call last)",
      "\u001b[1;32m<ipython-input-5-807b0853eeeb>\u001b[0m in \u001b[0;36m<module>\u001b[1;34m()\u001b[0m\n\u001b[0;32m      2\u001b[0m \u001b[0mb\u001b[0m\u001b[1;33m=\u001b[0m\u001b[1;33m[\u001b[0m\u001b[1;33m]\u001b[0m\u001b[1;33m\u001b[0m\u001b[0m\n\u001b[0;32m      3\u001b[0m \u001b[1;32mfor\u001b[0m \u001b[0mi\u001b[0m \u001b[1;32min\u001b[0m \u001b[0ma\u001b[0m\u001b[1;33m:\u001b[0m\u001b[1;33m\u001b[0m\u001b[0m\n\u001b[1;32m----> 4\u001b[1;33m     \u001b[0md\u001b[0m\u001b[1;33m=\u001b[0m\u001b[0ma\u001b[0m\u001b[1;33m.\u001b[0m\u001b[0mindex\u001b[0m\u001b[1;33m(\u001b[0m\u001b[0ma\u001b[0m\u001b[1;33m[\u001b[0m\u001b[0mi\u001b[0m\u001b[1;33m]\u001b[0m\u001b[1;33m)\u001b[0m\u001b[1;33m\u001b[0m\u001b[0m\n\u001b[0m\u001b[0;32m      5\u001b[0m     \u001b[0mc\u001b[0m\u001b[1;33m=\u001b[0m\u001b[0ma\u001b[0m\u001b[1;33m.\u001b[0m\u001b[0mcount\u001b[0m\u001b[1;33m(\u001b[0m\u001b[0ma\u001b[0m\u001b[1;33m[\u001b[0m\u001b[0mi\u001b[0m\u001b[1;33m]\u001b[0m\u001b[1;33m)\u001b[0m\u001b[1;33m\u001b[0m\u001b[0m\n\u001b[0;32m      6\u001b[0m     \u001b[1;32mif\u001b[0m \u001b[0mc\u001b[0m\u001b[1;33m>\u001b[0m\u001b[1;36m1\u001b[0m\u001b[1;33m:\u001b[0m\u001b[1;33m\u001b[0m\u001b[0m\n",
      "\u001b[1;31mIndexError\u001b[0m: list index out of range"
     ]
    }
   ],
   "source": [
    "a=[1,2,1,1,3,4]\n",
    "b=[]\n",
    "for i in a:\n",
    "    d=a.index(a[i])\n",
    "    c=a.count(a[i])\n",
    "    if c>1:\n",
    "        del(a[d])\n",
    "        \n",
    "print (a)\n",
    "                                    \n",
    "\n",
    "                        \n",
    "\n",
    "        \n",
    "    \n",
    "    "
   ]
  },
  {
   "cell_type": "code",
   "execution_count": 7,
   "metadata": {},
   "outputs": [
    {
     "ename": "TypeError",
     "evalue": "list indices must be integers or slices, not str",
     "output_type": "error",
     "traceback": [
      "\u001b[1;31m---------------------------------------------------------------------------\u001b[0m",
      "\u001b[1;31mTypeError\u001b[0m                                 Traceback (most recent call last)",
      "\u001b[1;32m<ipython-input-7-556dc46bde7d>\u001b[0m in \u001b[0;36m<module>\u001b[1;34m()\u001b[0m\n\u001b[0;32m      2\u001b[0m \u001b[0mres\u001b[0m\u001b[1;33m=\u001b[0m\u001b[1;33m[\u001b[0m\u001b[1;33m]\u001b[0m\u001b[1;33m\u001b[0m\u001b[0m\n\u001b[0;32m      3\u001b[0m \u001b[1;32mfor\u001b[0m \u001b[0mi\u001b[0m \u001b[1;32min\u001b[0m \u001b[0mstr\u001b[0m\u001b[1;33m:\u001b[0m\u001b[1;33m\u001b[0m\u001b[0m\n\u001b[1;32m----> 4\u001b[1;33m     \u001b[0mc\u001b[0m\u001b[1;33m=\u001b[0m\u001b[0mord\u001b[0m\u001b[1;33m(\u001b[0m\u001b[0mstr\u001b[0m\u001b[1;33m[\u001b[0m\u001b[0mi\u001b[0m\u001b[1;33m]\u001b[0m\u001b[1;33m)\u001b[0m\u001b[1;33m\u001b[0m\u001b[0m\n\u001b[0m\u001b[0;32m      5\u001b[0m     \u001b[1;32mif\u001b[0m \u001b[0mc\u001b[0m\u001b[1;33m>=\u001b[0m\u001b[1;36m97\u001b[0m \u001b[1;33m&\u001b[0m \u001b[0mc\u001b[0m\u001b[1;33m<=\u001b[0m\u001b[1;36m122\u001b[0m\u001b[1;33m:\u001b[0m\u001b[1;33m\u001b[0m\u001b[0m\n\u001b[0;32m      6\u001b[0m         \u001b[0mc\u001b[0m\u001b[1;33m=\u001b[0m\u001b[0mc\u001b[0m\u001b[1;33m-\u001b[0m\u001b[1;36m32\u001b[0m\u001b[1;33m\u001b[0m\u001b[0m\n",
      "\u001b[1;31mTypeError\u001b[0m: list indices must be integers or slices, not str"
     ]
    }
   ],
   "source": [
    "str=['P','y','T','h','O','N']\n",
    "res=[]\n",
    "for i in str:\n",
    "    c=ord(str[i])\n",
    "    if c>=97 & c<=122:\n",
    "        c=c-32\n",
    "        char=chr(c)\n",
    "        res.append(char)\n",
    "    elif c>=65 & c<=90:\n",
    "        c=c+32\n",
    "        char=chr(c)\n",
    "        res.append(char)\n",
    "        "
   ]
  },
  {
   "cell_type": "code",
   "execution_count": 1,
   "metadata": {
    "collapsed": true
   },
   "outputs": [],
   "source": [
    "def equilibrium(arr): \n",
    "    leftsum = 0\n",
    "    rightsum = 0\n",
    "    n = len(arr) \n",
    "  \n",
    "    # Check for indexes one by one  \n",
    "    # until an equilibrium index is found \n",
    "    for i in range(n): \n",
    "        leftsum = 0\n",
    "        rightsum = 0\n",
    "      \n",
    "        # get left sum \n",
    "        for j in range(i): \n",
    "            leftsum += arr[j] \n",
    "          \n",
    "        # get right sum \n",
    "        for j in range(i + 1, n): \n",
    "            rightsum += arr[j] \n",
    "          \n",
    "        # if leftsum and rightsum are same, \n",
    "        # then we are done \n",
    "        if leftsum == rightsum: \n",
    "            return (\"YES\") \n",
    "       \n",
    "      \n",
    "    # return -1 if no equilibrium index is found \n",
    "    \n",
    "              \n",
    "# driver code \n",
    "arr = [1,2,3,3]\n",
    "result=equilibrium(arr)\n",
    "\n"
   ]
  },
  {
   "cell_type": "code",
   "execution_count": 4,
   "metadata": {},
   "outputs": [
    {
     "name": "stdout",
     "output_type": "stream",
     "text": [
      "3\n",
      "24 1\n",
      "34\n",
      "4358 754\n",
      "1998\n",
      "305 794\n",
      "1\n"
     ]
    }
   ],
   "source": [
    "n=int(input())\n",
    "\n",
    "def reverse(a):\n",
    "    rev=0\n",
    "    while (a>0):\n",
    "        remainder=a%10\n",
    "        rev=(rev*10)+remainder\n",
    "        a=a//10\n",
    "\n",
    "    return rev\n",
    "\n",
    "def reversesum(x,y):\n",
    "    s=reverse (x)\n",
    "    t=reverse (y)\n",
    "    add=s+t \n",
    "    u=reverse(add)\n",
    "    return u\n",
    "    \n",
    "       \n",
    "for i in range (n):\n",
    "    a=input()\n",
    "    c=a.split(' ')\n",
    "    x=int(c[0])\n",
    "    y=int(c[1])\n",
    "    j=reversesum(x,y)\n",
    "    print (j)"
   ]
  },
  {
   "cell_type": "code",
   "execution_count": 8,
   "metadata": {},
   "outputs": [
    {
     "name": "stdout",
     "output_type": "stream",
     "text": [
      "4\n",
      "1\n",
      "2\n",
      "5\n",
      "3\n",
      "1\n",
      "2\n",
      "120\n",
      "6\n"
     ]
    }
   ],
   "source": [
    "#FCTRL2\n",
    "t=int(input())\n",
    "c=[]\n",
    "\n",
    "def fact(a):\n",
    "    if a==1:\n",
    "        return (1)\n",
    "    else:\n",
    "        return (a*fact(a-1))\n",
    "    \n",
    "for i in range (t):\n",
    "    a=int(input())\n",
    "    b=fact(a)\n",
    "    c.append(b)\n",
    "print (*c,sep=\"\\n\")\n",
    "    \n",
    "    "
   ]
  },
  {
   "cell_type": "code",
   "execution_count": 15,
   "metadata": {},
   "outputs": [
    {
     "name": "stdout",
     "output_type": "stream",
     "text": [
      "4\n",
      "3\n",
      "60\n",
      "100\n",
      "1024\n",
      "\n",
      "\n",
      "0\n",
      "14\n",
      "24\n",
      "253\n"
     ]
    }
   ],
   "source": [
    "#FCTRL2\n",
    "t=int(input())\n",
    "c=[]\n",
    "def fact(a):\n",
    "    if a==1:\n",
    "        return (1)\n",
    "    else:\n",
    "        return (a*fact(a-1))\n",
    "    \n",
    "def zerocount(a):\n",
    "    d=0\n",
    "    g=fact(a)\n",
    "    e=str(g)\n",
    "    return len(e)-len(e.rstrip('0'))\n",
    "        \n",
    "            \n",
    "    \n",
    "for i in range (t):\n",
    "    a=int(input())\n",
    "    b=zerocount(a)\n",
    "    c.append(b)\n",
    "    \n",
    "print(\"\\n\")\n",
    "print (*c,sep=\"\\n\")"
   ]
  },
  {
   "cell_type": "code",
   "execution_count": 16,
   "metadata": {},
   "outputs": [
    {
     "name": "stdout",
     "output_type": "stream",
     "text": [
      "1\n",
      "10\n",
      "2\n",
      "6.0\n",
      "4.0\n",
      "\n",
      "\n"
     ]
    }
   ],
   "source": [
    "#julka\n",
    "t=int(input())\n",
    "b=[]\n",
    "for i in range(t):\n",
    "    a=int(input())\n",
    "    b=int(input())\n",
    "    x=(a-b)/2\n",
    "    print (x+2)\n",
    "    print (x)\n",
    "    print (\"\\n\")\n",
    "    "
   ]
  },
  {
   "cell_type": "code",
   "execution_count": null,
   "metadata": {
    "collapsed": true
   },
   "outputs": [],
   "source": []
  }
 ],
 "metadata": {
  "kernelspec": {
   "display_name": "Python 3",
   "language": "python",
   "name": "python3"
  },
  "language_info": {
   "codemirror_mode": {
    "name": "ipython",
    "version": 3
   },
   "file_extension": ".py",
   "mimetype": "text/x-python",
   "name": "python",
   "nbconvert_exporter": "python",
   "pygments_lexer": "ipython3",
   "version": "3.6.3"
  }
 },
 "nbformat": 4,
 "nbformat_minor": 2
}
